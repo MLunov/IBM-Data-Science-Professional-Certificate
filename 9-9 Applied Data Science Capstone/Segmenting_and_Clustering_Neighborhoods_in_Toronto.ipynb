{
 "cells": [
  {
   "cell_type": "markdown",
   "metadata": {},
   "source": [
    "# Part 1"
   ]
  },
  {
   "cell_type": "code",
   "execution_count": 1,
   "metadata": {},
   "outputs": [
    {
     "name": "stdout",
     "output_type": "stream",
     "text": [
      "Requirement already satisfied: geopy in c:\\programdata\\anaconda3\\lib\\site-packages (1.20.0)\n",
      "Requirement already satisfied: geographiclib<2,>=1.49 in c:\\programdata\\anaconda3\\lib\\site-packages (from geopy) (1.50)\n"
     ]
    }
   ],
   "source": [
    "!pip install geopy"
   ]
  },
  {
   "cell_type": "code",
   "execution_count": 2,
   "metadata": {},
   "outputs": [
    {
     "name": "stdout",
     "output_type": "stream",
     "text": [
      "Requirement already satisfied: folium in c:\\programdata\\anaconda3\\lib\\site-packages (0.10.0)\n",
      "Requirement already satisfied: numpy in c:\\programdata\\anaconda3\\lib\\site-packages (from folium) (1.16.2)\n",
      "Requirement already satisfied: branca>=0.3.0 in c:\\programdata\\anaconda3\\lib\\site-packages (from folium) (0.3.1)\n",
      "Requirement already satisfied: jinja2>=2.9 in c:\\programdata\\anaconda3\\lib\\site-packages (from folium) (2.10)\n",
      "Requirement already satisfied: requests in c:\\programdata\\anaconda3\\lib\\site-packages (from folium) (2.21.0)\n",
      "Requirement already satisfied: six in c:\\programdata\\anaconda3\\lib\\site-packages (from branca>=0.3.0->folium) (1.12.0)\n",
      "Requirement already satisfied: MarkupSafe>=0.23 in c:\\programdata\\anaconda3\\lib\\site-packages (from jinja2>=2.9->folium) (1.1.1)\n",
      "Requirement already satisfied: urllib3<1.25,>=1.21.1 in c:\\programdata\\anaconda3\\lib\\site-packages (from requests->folium) (1.24.1)\n",
      "Requirement already satisfied: certifi>=2017.4.17 in c:\\programdata\\anaconda3\\lib\\site-packages (from requests->folium) (2019.3.9)\n",
      "Requirement already satisfied: idna<2.9,>=2.5 in c:\\programdata\\anaconda3\\lib\\site-packages (from requests->folium) (2.8)\n",
      "Requirement already satisfied: chardet<3.1.0,>=3.0.2 in c:\\programdata\\anaconda3\\lib\\site-packages (from requests->folium) (3.0.4)\n"
     ]
    }
   ],
   "source": [
    "!pip install folium"
   ]
  },
  {
   "cell_type": "code",
   "execution_count": 3,
   "metadata": {},
   "outputs": [],
   "source": [
    "import numpy as np # library to handle data in a vectorized manner\n",
    "\n",
    "import pandas as pd # library for data analsysis\n",
    "pd.set_option('display.max_columns', None)\n",
    "pd.set_option('display.max_rows', None)\n",
    "\n",
    "#!conda install -c conda-forge geopy --yes # uncomment this line if you haven't completed the Foursquare API lab\n",
    "from geopy.geocoders import Nominatim # convert an address into latitude and longitude values\n",
    "\n",
    "# Matplotlib and associated plotting modules\n",
    "import matplotlib.cm as cm\n",
    "import matplotlib.colors as colors\n",
    "\n",
    "# import k-means from clustering stage\n",
    "from sklearn.cluster import KMeans\n",
    "\n",
    "#!conda install -c conda-forge folium=0.5.0 --yes # uncomment this line if you haven't completed the Foursquare API lab\n",
    "import folium # map rendering library"
   ]
  },
  {
   "cell_type": "markdown",
   "metadata": {},
   "source": [
    "## 1. Scraping a Wikipedia table "
   ]
  },
  {
   "cell_type": "code",
   "execution_count": 4,
   "metadata": {},
   "outputs": [
    {
     "name": "stdout",
     "output_type": "stream",
     "text": [
      "Extracted 1 wikitables\n"
     ]
    }
   ],
   "source": [
    "from pandas.io.html import read_html\n",
    "page = 'https://en.wikipedia.org/wiki/List_of_postal_codes_of_Canada:_M'\n",
    "wikitables = read_html(page, index_col=0, attrs={\"class\":\"wikitable\"})\n",
    "print(\"Extracted {num} wikitables\".format(num=len(wikitables)))"
   ]
  },
  {
   "cell_type": "code",
   "execution_count": 5,
   "metadata": {},
   "outputs": [
    {
     "data": {
      "text/html": [
       "<div>\n",
       "<style scoped>\n",
       "    .dataframe tbody tr th:only-of-type {\n",
       "        vertical-align: middle;\n",
       "    }\n",
       "\n",
       "    .dataframe tbody tr th {\n",
       "        vertical-align: top;\n",
       "    }\n",
       "\n",
       "    .dataframe thead th {\n",
       "        text-align: right;\n",
       "    }\n",
       "</style>\n",
       "<table border=\"1\" class=\"dataframe\">\n",
       "  <thead>\n",
       "    <tr style=\"text-align: right;\">\n",
       "      <th></th>\n",
       "      <th>Postcode</th>\n",
       "      <th>Borough</th>\n",
       "      <th>Neighbourhood</th>\n",
       "    </tr>\n",
       "  </thead>\n",
       "  <tbody>\n",
       "    <tr>\n",
       "      <th>0</th>\n",
       "      <td>M1A</td>\n",
       "      <td>Not assigned</td>\n",
       "      <td>Not assigned</td>\n",
       "    </tr>\n",
       "    <tr>\n",
       "      <th>1</th>\n",
       "      <td>M2A</td>\n",
       "      <td>Not assigned</td>\n",
       "      <td>Not assigned</td>\n",
       "    </tr>\n",
       "    <tr>\n",
       "      <th>2</th>\n",
       "      <td>M3A</td>\n",
       "      <td>North York</td>\n",
       "      <td>Parkwoods</td>\n",
       "    </tr>\n",
       "    <tr>\n",
       "      <th>3</th>\n",
       "      <td>M4A</td>\n",
       "      <td>North York</td>\n",
       "      <td>Victoria Village</td>\n",
       "    </tr>\n",
       "    <tr>\n",
       "      <th>4</th>\n",
       "      <td>M5A</td>\n",
       "      <td>Downtown Toronto</td>\n",
       "      <td>Harbourfront</td>\n",
       "    </tr>\n",
       "    <tr>\n",
       "      <th>5</th>\n",
       "      <td>M5A</td>\n",
       "      <td>Downtown Toronto</td>\n",
       "      <td>Regent Park</td>\n",
       "    </tr>\n",
       "    <tr>\n",
       "      <th>6</th>\n",
       "      <td>M6A</td>\n",
       "      <td>North York</td>\n",
       "      <td>Lawrence Heights</td>\n",
       "    </tr>\n",
       "    <tr>\n",
       "      <th>7</th>\n",
       "      <td>M6A</td>\n",
       "      <td>North York</td>\n",
       "      <td>Lawrence Manor</td>\n",
       "    </tr>\n",
       "    <tr>\n",
       "      <th>8</th>\n",
       "      <td>M7A</td>\n",
       "      <td>Queen's Park</td>\n",
       "      <td>Not assigned</td>\n",
       "    </tr>\n",
       "    <tr>\n",
       "      <th>9</th>\n",
       "      <td>M8A</td>\n",
       "      <td>Not assigned</td>\n",
       "      <td>Not assigned</td>\n",
       "    </tr>\n",
       "  </tbody>\n",
       "</table>\n",
       "</div>"
      ],
      "text/plain": [
       "  Postcode           Borough     Neighbourhood\n",
       "0      M1A      Not assigned      Not assigned\n",
       "1      M2A      Not assigned      Not assigned\n",
       "2      M3A        North York         Parkwoods\n",
       "3      M4A        North York  Victoria Village\n",
       "4      M5A  Downtown Toronto      Harbourfront\n",
       "5      M5A  Downtown Toronto       Regent Park\n",
       "6      M6A        North York  Lawrence Heights\n",
       "7      M6A        North York    Lawrence Manor\n",
       "8      M7A      Queen's Park      Not assigned\n",
       "9      M8A      Not assigned      Not assigned"
      ]
     },
     "execution_count": 5,
     "metadata": {},
     "output_type": "execute_result"
    }
   ],
   "source": [
    "df = wikitables[0].reset_index()\n",
    "df.head(10)"
   ]
  },
  {
   "cell_type": "markdown",
   "metadata": {},
   "source": [
    "## 2. Data wrangling"
   ]
  },
  {
   "cell_type": "code",
   "execution_count": 6,
   "metadata": {},
   "outputs": [
    {
     "data": {
      "text/html": [
       "<div>\n",
       "<style scoped>\n",
       "    .dataframe tbody tr th:only-of-type {\n",
       "        vertical-align: middle;\n",
       "    }\n",
       "\n",
       "    .dataframe tbody tr th {\n",
       "        vertical-align: top;\n",
       "    }\n",
       "\n",
       "    .dataframe thead th {\n",
       "        text-align: right;\n",
       "    }\n",
       "</style>\n",
       "<table border=\"1\" class=\"dataframe\">\n",
       "  <thead>\n",
       "    <tr style=\"text-align: right;\">\n",
       "      <th></th>\n",
       "      <th>Postcode</th>\n",
       "      <th>Borough</th>\n",
       "      <th>Neighbourhood</th>\n",
       "    </tr>\n",
       "  </thead>\n",
       "  <tbody>\n",
       "    <tr>\n",
       "      <th>2</th>\n",
       "      <td>M3A</td>\n",
       "      <td>North York</td>\n",
       "      <td>Parkwoods</td>\n",
       "    </tr>\n",
       "    <tr>\n",
       "      <th>3</th>\n",
       "      <td>M4A</td>\n",
       "      <td>North York</td>\n",
       "      <td>Victoria Village</td>\n",
       "    </tr>\n",
       "    <tr>\n",
       "      <th>4</th>\n",
       "      <td>M5A</td>\n",
       "      <td>Downtown Toronto</td>\n",
       "      <td>Harbourfront</td>\n",
       "    </tr>\n",
       "    <tr>\n",
       "      <th>5</th>\n",
       "      <td>M5A</td>\n",
       "      <td>Downtown Toronto</td>\n",
       "      <td>Regent Park</td>\n",
       "    </tr>\n",
       "    <tr>\n",
       "      <th>6</th>\n",
       "      <td>M6A</td>\n",
       "      <td>North York</td>\n",
       "      <td>Lawrence Heights</td>\n",
       "    </tr>\n",
       "    <tr>\n",
       "      <th>7</th>\n",
       "      <td>M6A</td>\n",
       "      <td>North York</td>\n",
       "      <td>Lawrence Manor</td>\n",
       "    </tr>\n",
       "    <tr>\n",
       "      <th>8</th>\n",
       "      <td>M7A</td>\n",
       "      <td>Queen's Park</td>\n",
       "      <td>Queen's Park</td>\n",
       "    </tr>\n",
       "    <tr>\n",
       "      <th>10</th>\n",
       "      <td>M9A</td>\n",
       "      <td>Etobicoke</td>\n",
       "      <td>Islington Avenue</td>\n",
       "    </tr>\n",
       "    <tr>\n",
       "      <th>11</th>\n",
       "      <td>M1B</td>\n",
       "      <td>Scarborough</td>\n",
       "      <td>Rouge</td>\n",
       "    </tr>\n",
       "    <tr>\n",
       "      <th>12</th>\n",
       "      <td>M1B</td>\n",
       "      <td>Scarborough</td>\n",
       "      <td>Malvern</td>\n",
       "    </tr>\n",
       "  </tbody>\n",
       "</table>\n",
       "</div>"
      ],
      "text/plain": [
       "   Postcode           Borough     Neighbourhood\n",
       "2       M3A        North York         Parkwoods\n",
       "3       M4A        North York  Victoria Village\n",
       "4       M5A  Downtown Toronto      Harbourfront\n",
       "5       M5A  Downtown Toronto       Regent Park\n",
       "6       M6A        North York  Lawrence Heights\n",
       "7       M6A        North York    Lawrence Manor\n",
       "8       M7A      Queen's Park      Queen's Park\n",
       "10      M9A         Etobicoke  Islington Avenue\n",
       "11      M1B       Scarborough             Rouge\n",
       "12      M1B       Scarborough           Malvern"
      ]
     },
     "execution_count": 6,
     "metadata": {},
     "output_type": "execute_result"
    }
   ],
   "source": [
    "df = df[df.Borough != 'Not assigned'].replace('Not assigned', np.nan)\n",
    "df['Neighbourhood'] = df['Neighbourhood'].fillna(df['Borough'])\n",
    "df.head(10)"
   ]
  },
  {
   "cell_type": "code",
   "execution_count": 7,
   "metadata": {},
   "outputs": [
    {
     "data": {
      "text/html": [
       "<div>\n",
       "<style scoped>\n",
       "    .dataframe tbody tr th:only-of-type {\n",
       "        vertical-align: middle;\n",
       "    }\n",
       "\n",
       "    .dataframe tbody tr th {\n",
       "        vertical-align: top;\n",
       "    }\n",
       "\n",
       "    .dataframe thead th {\n",
       "        text-align: right;\n",
       "    }\n",
       "</style>\n",
       "<table border=\"1\" class=\"dataframe\">\n",
       "  <thead>\n",
       "    <tr style=\"text-align: right;\">\n",
       "      <th></th>\n",
       "      <th>Postcode</th>\n",
       "      <th>Borough</th>\n",
       "      <th>Neighbourhood</th>\n",
       "    </tr>\n",
       "  </thead>\n",
       "  <tbody>\n",
       "    <tr>\n",
       "      <th>0</th>\n",
       "      <td>M1B</td>\n",
       "      <td>Scarborough</td>\n",
       "      <td>Rouge, Malvern</td>\n",
       "    </tr>\n",
       "    <tr>\n",
       "      <th>1</th>\n",
       "      <td>M1C</td>\n",
       "      <td>Scarborough</td>\n",
       "      <td>Highland Creek, Rouge Hill, Port Union</td>\n",
       "    </tr>\n",
       "    <tr>\n",
       "      <th>2</th>\n",
       "      <td>M1E</td>\n",
       "      <td>Scarborough</td>\n",
       "      <td>Guildwood, Morningside, West Hill</td>\n",
       "    </tr>\n",
       "    <tr>\n",
       "      <th>3</th>\n",
       "      <td>M1G</td>\n",
       "      <td>Scarborough</td>\n",
       "      <td>Woburn</td>\n",
       "    </tr>\n",
       "    <tr>\n",
       "      <th>4</th>\n",
       "      <td>M1H</td>\n",
       "      <td>Scarborough</td>\n",
       "      <td>Cedarbrae</td>\n",
       "    </tr>\n",
       "    <tr>\n",
       "      <th>5</th>\n",
       "      <td>M1J</td>\n",
       "      <td>Scarborough</td>\n",
       "      <td>Scarborough Village</td>\n",
       "    </tr>\n",
       "    <tr>\n",
       "      <th>6</th>\n",
       "      <td>M1K</td>\n",
       "      <td>Scarborough</td>\n",
       "      <td>East Birchmount Park, Ionview, Kennedy Park</td>\n",
       "    </tr>\n",
       "    <tr>\n",
       "      <th>7</th>\n",
       "      <td>M1L</td>\n",
       "      <td>Scarborough</td>\n",
       "      <td>Clairlea, Golden Mile, Oakridge</td>\n",
       "    </tr>\n",
       "    <tr>\n",
       "      <th>8</th>\n",
       "      <td>M1M</td>\n",
       "      <td>Scarborough</td>\n",
       "      <td>Cliffcrest, Cliffside, Scarborough Village West</td>\n",
       "    </tr>\n",
       "    <tr>\n",
       "      <th>9</th>\n",
       "      <td>M1N</td>\n",
       "      <td>Scarborough</td>\n",
       "      <td>Birch Cliff, Cliffside West</td>\n",
       "    </tr>\n",
       "  </tbody>\n",
       "</table>\n",
       "</div>"
      ],
      "text/plain": [
       "  Postcode      Borough                                    Neighbourhood\n",
       "0      M1B  Scarborough                                   Rouge, Malvern\n",
       "1      M1C  Scarborough           Highland Creek, Rouge Hill, Port Union\n",
       "2      M1E  Scarborough                Guildwood, Morningside, West Hill\n",
       "3      M1G  Scarborough                                           Woburn\n",
       "4      M1H  Scarborough                                        Cedarbrae\n",
       "5      M1J  Scarborough                              Scarborough Village\n",
       "6      M1K  Scarborough      East Birchmount Park, Ionview, Kennedy Park\n",
       "7      M1L  Scarborough                  Clairlea, Golden Mile, Oakridge\n",
       "8      M1M  Scarborough  Cliffcrest, Cliffside, Scarborough Village West\n",
       "9      M1N  Scarborough                      Birch Cliff, Cliffside West"
      ]
     },
     "execution_count": 7,
     "metadata": {},
     "output_type": "execute_result"
    }
   ],
   "source": [
    "df = (pd.DataFrame({'Neighbourhood' : df\n",
    "                    .groupby(['Postcode', 'Borough'])['Neighbourhood']\n",
    "                    .apply(lambda x: ', '.join(x))})\n",
    "      .reset_index())\n",
    "df.head(10)"
   ]
  },
  {
   "cell_type": "code",
   "execution_count": 8,
   "metadata": {},
   "outputs": [
    {
     "name": "stdout",
     "output_type": "stream",
     "text": [
      "Number of rows in table is: 103\n"
     ]
    }
   ],
   "source": [
    "print('Number of rows in table is:', df.shape[0])"
   ]
  },
  {
   "cell_type": "markdown",
   "metadata": {},
   "source": [
    "# Part 2"
   ]
  },
  {
   "cell_type": "markdown",
   "metadata": {},
   "source": [
    "## Getting the latitude and the longitude coordinates of each neighborhood."
   ]
  },
  {
   "cell_type": "code",
   "execution_count": 9,
   "metadata": {},
   "outputs": [],
   "source": [
    "# !pip install geocoder"
   ]
  },
  {
   "cell_type": "code",
   "execution_count": 10,
   "metadata": {},
   "outputs": [],
   "source": [
    "# import geocoder # import geocoder\n",
    "\n",
    "# def get_geocoder(postal_code):\n",
    "    \n",
    "#     # initialize your variable to None\n",
    "#     lat_lng_coords = None\n",
    "    \n",
    "#     # loop until you get the coordinates\n",
    "#     while(lat_lng_coords is None):\n",
    "#         g = geocoder.google('{}, Toronto, Ontario'.format(postal_code))\n",
    "#         lat_lng_coords = g.latlng\n",
    "    \n",
    "#     latitude = lat_lng_coords[0]\n",
    "#     longitude = lat_lng_coords[1]\n",
    "    \n",
    "#     return latitude, longitude\n",
    "\n",
    "# df['Latitude'], df['Longitude'] = zip(*df['Postcode'].apply(get_geocoder))\n",
    "# df"
   ]
  },
  {
   "cell_type": "code",
   "execution_count": 11,
   "metadata": {},
   "outputs": [
    {
     "data": {
      "text/html": [
       "<div>\n",
       "<style scoped>\n",
       "    .dataframe tbody tr th:only-of-type {\n",
       "        vertical-align: middle;\n",
       "    }\n",
       "\n",
       "    .dataframe tbody tr th {\n",
       "        vertical-align: top;\n",
       "    }\n",
       "\n",
       "    .dataframe thead th {\n",
       "        text-align: right;\n",
       "    }\n",
       "</style>\n",
       "<table border=\"1\" class=\"dataframe\">\n",
       "  <thead>\n",
       "    <tr style=\"text-align: right;\">\n",
       "      <th></th>\n",
       "      <th>Postal Code</th>\n",
       "      <th>Latitude</th>\n",
       "      <th>Longitude</th>\n",
       "    </tr>\n",
       "  </thead>\n",
       "  <tbody>\n",
       "    <tr>\n",
       "      <th>0</th>\n",
       "      <td>M1B</td>\n",
       "      <td>43.806686</td>\n",
       "      <td>-79.194353</td>\n",
       "    </tr>\n",
       "    <tr>\n",
       "      <th>1</th>\n",
       "      <td>M1C</td>\n",
       "      <td>43.784535</td>\n",
       "      <td>-79.160497</td>\n",
       "    </tr>\n",
       "    <tr>\n",
       "      <th>2</th>\n",
       "      <td>M1E</td>\n",
       "      <td>43.763573</td>\n",
       "      <td>-79.188711</td>\n",
       "    </tr>\n",
       "    <tr>\n",
       "      <th>3</th>\n",
       "      <td>M1G</td>\n",
       "      <td>43.770992</td>\n",
       "      <td>-79.216917</td>\n",
       "    </tr>\n",
       "    <tr>\n",
       "      <th>4</th>\n",
       "      <td>M1H</td>\n",
       "      <td>43.773136</td>\n",
       "      <td>-79.239476</td>\n",
       "    </tr>\n",
       "  </tbody>\n",
       "</table>\n",
       "</div>"
      ],
      "text/plain": [
       "  Postal Code   Latitude  Longitude\n",
       "0         M1B  43.806686 -79.194353\n",
       "1         M1C  43.784535 -79.160497\n",
       "2         M1E  43.763573 -79.188711\n",
       "3         M1G  43.770992 -79.216917\n",
       "4         M1H  43.773136 -79.239476"
      ]
     },
     "execution_count": 11,
     "metadata": {},
     "output_type": "execute_result"
    }
   ],
   "source": [
    "geo_df = pd.read_csv('http://cocl.us/Geospatial_data/Geospatial_Coordinates.csv')\n",
    "geo_df.head()"
   ]
  },
  {
   "cell_type": "code",
   "execution_count": 12,
   "metadata": {},
   "outputs": [
    {
     "data": {
      "text/html": [
       "<div>\n",
       "<style scoped>\n",
       "    .dataframe tbody tr th:only-of-type {\n",
       "        vertical-align: middle;\n",
       "    }\n",
       "\n",
       "    .dataframe tbody tr th {\n",
       "        vertical-align: top;\n",
       "    }\n",
       "\n",
       "    .dataframe thead th {\n",
       "        text-align: right;\n",
       "    }\n",
       "</style>\n",
       "<table border=\"1\" class=\"dataframe\">\n",
       "  <thead>\n",
       "    <tr style=\"text-align: right;\">\n",
       "      <th></th>\n",
       "      <th>Postcode</th>\n",
       "      <th>Borough</th>\n",
       "      <th>Neighbourhood</th>\n",
       "      <th>Latitude</th>\n",
       "      <th>Longitude</th>\n",
       "    </tr>\n",
       "  </thead>\n",
       "  <tbody>\n",
       "    <tr>\n",
       "      <th>0</th>\n",
       "      <td>M1B</td>\n",
       "      <td>Scarborough</td>\n",
       "      <td>Rouge, Malvern</td>\n",
       "      <td>43.806686</td>\n",
       "      <td>-79.194353</td>\n",
       "    </tr>\n",
       "    <tr>\n",
       "      <th>1</th>\n",
       "      <td>M1C</td>\n",
       "      <td>Scarborough</td>\n",
       "      <td>Highland Creek, Rouge Hill, Port Union</td>\n",
       "      <td>43.784535</td>\n",
       "      <td>-79.160497</td>\n",
       "    </tr>\n",
       "    <tr>\n",
       "      <th>2</th>\n",
       "      <td>M1E</td>\n",
       "      <td>Scarborough</td>\n",
       "      <td>Guildwood, Morningside, West Hill</td>\n",
       "      <td>43.763573</td>\n",
       "      <td>-79.188711</td>\n",
       "    </tr>\n",
       "    <tr>\n",
       "      <th>3</th>\n",
       "      <td>M1G</td>\n",
       "      <td>Scarborough</td>\n",
       "      <td>Woburn</td>\n",
       "      <td>43.770992</td>\n",
       "      <td>-79.216917</td>\n",
       "    </tr>\n",
       "    <tr>\n",
       "      <th>4</th>\n",
       "      <td>M1H</td>\n",
       "      <td>Scarborough</td>\n",
       "      <td>Cedarbrae</td>\n",
       "      <td>43.773136</td>\n",
       "      <td>-79.239476</td>\n",
       "    </tr>\n",
       "    <tr>\n",
       "      <th>5</th>\n",
       "      <td>M1J</td>\n",
       "      <td>Scarborough</td>\n",
       "      <td>Scarborough Village</td>\n",
       "      <td>43.744734</td>\n",
       "      <td>-79.239476</td>\n",
       "    </tr>\n",
       "    <tr>\n",
       "      <th>6</th>\n",
       "      <td>M1K</td>\n",
       "      <td>Scarborough</td>\n",
       "      <td>East Birchmount Park, Ionview, Kennedy Park</td>\n",
       "      <td>43.727929</td>\n",
       "      <td>-79.262029</td>\n",
       "    </tr>\n",
       "    <tr>\n",
       "      <th>7</th>\n",
       "      <td>M1L</td>\n",
       "      <td>Scarborough</td>\n",
       "      <td>Clairlea, Golden Mile, Oakridge</td>\n",
       "      <td>43.711112</td>\n",
       "      <td>-79.284577</td>\n",
       "    </tr>\n",
       "    <tr>\n",
       "      <th>8</th>\n",
       "      <td>M1M</td>\n",
       "      <td>Scarborough</td>\n",
       "      <td>Cliffcrest, Cliffside, Scarborough Village West</td>\n",
       "      <td>43.716316</td>\n",
       "      <td>-79.239476</td>\n",
       "    </tr>\n",
       "    <tr>\n",
       "      <th>9</th>\n",
       "      <td>M1N</td>\n",
       "      <td>Scarborough</td>\n",
       "      <td>Birch Cliff, Cliffside West</td>\n",
       "      <td>43.692657</td>\n",
       "      <td>-79.264848</td>\n",
       "    </tr>\n",
       "  </tbody>\n",
       "</table>\n",
       "</div>"
      ],
      "text/plain": [
       "  Postcode      Borough                                    Neighbourhood  \\\n",
       "0      M1B  Scarborough                                   Rouge, Malvern   \n",
       "1      M1C  Scarborough           Highland Creek, Rouge Hill, Port Union   \n",
       "2      M1E  Scarborough                Guildwood, Morningside, West Hill   \n",
       "3      M1G  Scarborough                                           Woburn   \n",
       "4      M1H  Scarborough                                        Cedarbrae   \n",
       "5      M1J  Scarborough                              Scarborough Village   \n",
       "6      M1K  Scarborough      East Birchmount Park, Ionview, Kennedy Park   \n",
       "7      M1L  Scarborough                  Clairlea, Golden Mile, Oakridge   \n",
       "8      M1M  Scarborough  Cliffcrest, Cliffside, Scarborough Village West   \n",
       "9      M1N  Scarborough                      Birch Cliff, Cliffside West   \n",
       "\n",
       "    Latitude  Longitude  \n",
       "0  43.806686 -79.194353  \n",
       "1  43.784535 -79.160497  \n",
       "2  43.763573 -79.188711  \n",
       "3  43.770992 -79.216917  \n",
       "4  43.773136 -79.239476  \n",
       "5  43.744734 -79.239476  \n",
       "6  43.727929 -79.262029  \n",
       "7  43.711112 -79.284577  \n",
       "8  43.716316 -79.239476  \n",
       "9  43.692657 -79.264848  "
      ]
     },
     "execution_count": 12,
     "metadata": {},
     "output_type": "execute_result"
    }
   ],
   "source": [
    "new_df = pd.merge(df, geo_df.rename(columns={'Postal Code':'Postcode'}), how='left', on='Postcode')\n",
    "new_df.head(10)"
   ]
  },
  {
   "cell_type": "markdown",
   "metadata": {},
   "source": [
    "# Part 3"
   ]
  },
  {
   "cell_type": "markdown",
   "metadata": {},
   "source": [
    "## Clustering the neighborhoods in Toronto"
   ]
  },
  {
   "cell_type": "code",
   "execution_count": 13,
   "metadata": {},
   "outputs": [
    {
     "data": {
      "text/html": [
       "<div>\n",
       "<style scoped>\n",
       "    .dataframe tbody tr th:only-of-type {\n",
       "        vertical-align: middle;\n",
       "    }\n",
       "\n",
       "    .dataframe tbody tr th {\n",
       "        vertical-align: top;\n",
       "    }\n",
       "\n",
       "    .dataframe thead th {\n",
       "        text-align: right;\n",
       "    }\n",
       "</style>\n",
       "<table border=\"1\" class=\"dataframe\">\n",
       "  <thead>\n",
       "    <tr style=\"text-align: right;\">\n",
       "      <th></th>\n",
       "      <th>Postcode</th>\n",
       "      <th>Borough</th>\n",
       "      <th>Neighbourhood</th>\n",
       "      <th>Latitude</th>\n",
       "      <th>Longitude</th>\n",
       "    </tr>\n",
       "  </thead>\n",
       "  <tbody>\n",
       "    <tr>\n",
       "      <th>0</th>\n",
       "      <td>M4E</td>\n",
       "      <td>East Toronto</td>\n",
       "      <td>The Beaches</td>\n",
       "      <td>43.676357</td>\n",
       "      <td>-79.293031</td>\n",
       "    </tr>\n",
       "    <tr>\n",
       "      <th>1</th>\n",
       "      <td>M4K</td>\n",
       "      <td>East Toronto</td>\n",
       "      <td>The Danforth West, Riverdale</td>\n",
       "      <td>43.679557</td>\n",
       "      <td>-79.352188</td>\n",
       "    </tr>\n",
       "    <tr>\n",
       "      <th>2</th>\n",
       "      <td>M4L</td>\n",
       "      <td>East Toronto</td>\n",
       "      <td>The Beaches West, India Bazaar</td>\n",
       "      <td>43.668999</td>\n",
       "      <td>-79.315572</td>\n",
       "    </tr>\n",
       "    <tr>\n",
       "      <th>3</th>\n",
       "      <td>M4M</td>\n",
       "      <td>East Toronto</td>\n",
       "      <td>Studio District</td>\n",
       "      <td>43.659526</td>\n",
       "      <td>-79.340923</td>\n",
       "    </tr>\n",
       "    <tr>\n",
       "      <th>4</th>\n",
       "      <td>M4N</td>\n",
       "      <td>Central Toronto</td>\n",
       "      <td>Lawrence Park</td>\n",
       "      <td>43.728020</td>\n",
       "      <td>-79.388790</td>\n",
       "    </tr>\n",
       "  </tbody>\n",
       "</table>\n",
       "</div>"
      ],
      "text/plain": [
       "  Postcode          Borough                   Neighbourhood   Latitude  \\\n",
       "0      M4E     East Toronto                     The Beaches  43.676357   \n",
       "1      M4K     East Toronto    The Danforth West, Riverdale  43.679557   \n",
       "2      M4L     East Toronto  The Beaches West, India Bazaar  43.668999   \n",
       "3      M4M     East Toronto                 Studio District  43.659526   \n",
       "4      M4N  Central Toronto                   Lawrence Park  43.728020   \n",
       "\n",
       "   Longitude  \n",
       "0 -79.293031  \n",
       "1 -79.352188  \n",
       "2 -79.315572  \n",
       "3 -79.340923  \n",
       "4 -79.388790  "
      ]
     },
     "execution_count": 13,
     "metadata": {},
     "output_type": "execute_result"
    }
   ],
   "source": [
    "# create a new dataframe of the Toronto data\n",
    "toronto_data = new_df[new_df['Borough'].str.contains('Toronto')].reset_index(drop=True)\n",
    "toronto_data.head()"
   ]
  },
  {
   "cell_type": "code",
   "execution_count": 14,
   "metadata": {},
   "outputs": [
    {
     "name": "stdout",
     "output_type": "stream",
     "text": [
      "The geograpical coordinate of Toronto are 43.653963, -79.387207.\n"
     ]
    }
   ],
   "source": [
    "address = 'Toronto, Ontario'\n",
    "\n",
    "geolocator = Nominatim(user_agent=\"ny_explorer\")\n",
    "location = geolocator.geocode(address)\n",
    "latitude = location.latitude\n",
    "longitude = location.longitude\n",
    "print('The geograpical coordinate of Toronto are {}, {}.'.format(latitude, longitude))"
   ]
  },
  {
   "cell_type": "code",
   "execution_count": 15,
   "metadata": {},
   "outputs": [
    {
     "data": {
      "text/html": [
       "<div style=\"width:100%;\"><div style=\"position:relative;width:100%;height:0;padding-bottom:60%;\"><iframe src=\"data:text/html;charset=utf-8;base64,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\" style=\"position:absolute;width:100%;height:100%;left:0;top:0;border:none !important;\" allowfullscreen webkitallowfullscreen mozallowfullscreen></iframe></div></div>"
      ],
      "text/plain": [
       "<folium.folium.Map at 0xcf85da0>"
      ]
     },
     "execution_count": 15,
     "metadata": {},
     "output_type": "execute_result"
    }
   ],
   "source": [
    "# create map of Toronto using latitude and longitude values\n",
    "map_toronto = folium.Map(location=[latitude, longitude], zoom_start=11)\n",
    "\n",
    "# add markers to map\n",
    "for lat, lng, label in zip(toronto_data['Latitude'], toronto_data['Longitude'], toronto_data['Neighbourhood']):\n",
    "    label = folium.Popup(label, parse_html=True)\n",
    "    folium.CircleMarker(\n",
    "        [lat, lng],\n",
    "        radius=5,\n",
    "        popup=label,\n",
    "        color='blue',\n",
    "        fill=True,\n",
    "        fill_color='#3186cc',\n",
    "        fill_opacity=0.7,\n",
    "        parse_html=False).add_to(map_toronto)  \n",
    "    \n",
    "map_toronto"
   ]
  },
  {
   "cell_type": "code",
   "execution_count": null,
   "metadata": {},
   "outputs": [],
   "source": []
  }
 ],
 "metadata": {
  "kernelspec": {
   "display_name": "Python 3",
   "language": "python",
   "name": "python3"
  },
  "language_info": {
   "codemirror_mode": {
    "name": "ipython",
    "version": 3
   },
   "file_extension": ".py",
   "mimetype": "text/x-python",
   "name": "python",
   "nbconvert_exporter": "python",
   "pygments_lexer": "ipython3",
   "version": "3.7.3"
  }
 },
 "nbformat": 4,
 "nbformat_minor": 2
}
